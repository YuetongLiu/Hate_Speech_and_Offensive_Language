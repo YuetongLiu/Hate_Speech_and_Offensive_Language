{
 "cells": [
  {
   "cell_type": "code",
   "execution_count": 3,
   "metadata": {},
   "outputs": [],
   "source": [
    "import pandas as pd\n",
    "import numpy as np\n",
    "import nltk\n",
    "from nltk.stem.porter import *\n",
    "import string\n",
    "import re\n",
    "import matplotlib.pyplot as plt\n",
    "from sklearn.model_selection import train_test_split\n",
    "from gensim.models.word2vec import Word2Vec\n",
    "import warnings\n",
    "from random import choice\n",
    "from gensim import corpora, models\n",
    "from gensim.models import CoherenceModel\n",
    "import csv\n",
    "from liwc import LIWC\n",
    "warnings.filterwarnings(\"ignore\")"
   ]
  },
  {
   "cell_type": "markdown",
   "metadata": {},
   "source": [
    "## Dataset(s)\n",
    "\n",
    "Describe the dataset(s) you used.\n",
    "\n",
    "1.How were they collected?\n",
    "\n",
    "  The data came from the statistics of users’ hate speech and offensive language in social media.\n",
    "\n",
    "2.Why did you choose them?\n",
    "\n",
    "  First of all, we are very interested in the topic of hate speech and offensive language detection. Secondly, this topic has good social significance and the results of this study can somehow help improve the network environment.\n",
    "\n",
    "3.How many examples in each?\n",
    "\n",
    "  24783 samples in total and each sample contains 6 columns including labels.\n"
   ]
  },
  {
   "cell_type": "code",
   "execution_count": 4,
   "metadata": {},
   "outputs": [
    {
     "name": "stdout",
     "output_type": "stream",
     "text": [
      "   count  hate_speech  offensive_language  neither  class  \\\n",
      "0      3            0                   0        3      2   \n",
      "1      3            0                   3        0      1   \n",
      "2      3            0                   3        0      1   \n",
      "\n",
      "                                               tweet  \n",
      "0  !!! RT @mayasolovely: As a woman you shouldn't...  \n",
      "1  !!!!! RT @mleew17: boy dats cold...tyga dwn ba...  \n",
      "2  !!!!!!! RT @UrKindOfBrand Dawg!!!! RT @80sbaby...  \n"
     ]
    }
   ],
   "source": [
    "# Load data and show some examples\n",
    "df=pd.read_csv(\"labeled_data.csv\")\n",
    "df.drop(df.columns[[0]], axis=1,inplace=True)\n",
    "print(df.iloc[:3,:])"
   ]
  },
  {
   "cell_type": "markdown",
   "metadata": {},
   "source": [
    "## Pre-processing\n",
    "\n",
    "1.What features did you use or choose not to use? Why?\n",
    "\n",
    "We choose to use column named \"tweet\" which is directly related to our topic and the column named \"class\" is our label column.Since our \n",
    "goal is to detect hate speech and offensive language through text analysis, we decided not to use other features which are related to the \n",
    "count of words. \n",
    "\n",
    "2.If you have categorical labels, were your datasets class-balanced?\n",
    "\n",
    "We do have categorical labels, and they are unbalanced.(Shown below)\n",
    "\n",
    "3.How did you deal with missing data? What about outliers?\n",
    "\n",
    "Fortunately, our dataset does not have missing data. Besides, what we are really insterested in are all \"string\" format data, so we do not consider outliers here. While we do deal with some of the tweets that are problematic. For example, some sentences only contain special punctuations, and some sentences have # before every word.\n",
    "\n",
    "4.What approach(es) did you use to pre-process your data? Why?\n",
    "\n",
    "We remove less important part of each tweet:<br>\n",
    "1 Punctuation <br>\n",
    "2 Stop words <br>\n",
    "3 Hashtag <br>\n",
    "4 Username <br>\n",
    "5 Http information <br>\n",
    "6 Digit and excessive whitespaces <br>\n",
    "\n",
    "Then we also transform all the letters into lower case, and then do stemming and tokenization. In particular, we deal with those special problematic sentences by rewriting regular expression for them.\n",
    "\n",
    "All of the operations above are in order to retain only important information of tweet and remove irrelevant information. Let each of our data maintains words which are related to distinguishing hate speech and offensive language. Finally, our data would be more accurate in word embedding part, which may help the prediction of our models.\n",
    "\n",
    "5.Are your features continuous or categorical? How do you treat these features differently?\n",
    "\n",
    "Our data is text format, so after embedding all the tweets we only have continuous numeric vectors."
   ]
  },
  {
   "cell_type": "code",
   "execution_count": 11,
   "metadata": {},
   "outputs": [
    {
     "name": "stdout",
     "output_type": "stream",
     "text": [
      "label 0 1430\n",
      "label 1 19190\n",
      "label 2 4163\n"
     ]
    }
   ],
   "source": [
    "print(\"label 0\",np.sum(df[\"class\"]==0))\n",
    "print(\"label 1\",np.sum(df[\"class\"]==1))\n",
    "print(\"label 2\",np.sum(df[\"class\"]==2))"
   ]
  },
  {
   "cell_type": "markdown",
   "metadata": {},
   "source": [
    "Thus our data is obviously unbalanced."
   ]
  },
  {
   "cell_type": "code",
   "execution_count": 15,
   "metadata": {},
   "outputs": [
    {
     "data": {
      "image/png": "[encoded data removed]",
      "text/plain": [
       "<Figure size 432x288 with 1 Axes>"
      ]
     },
     "metadata": {},
     "output_type": "display_data"
    },
    {
     "name": "stdout",
     "output_type": "stream",
     "text": [
      "average len before preprocessing 85.43606504458701\n"
     ]
    }
   ],
   "source": [
    "# Tweet length before preprocessing\n",
    "#average len of tweet\n",
    "tweet = np.array(df[\"tweet\"])\n",
    "avg=0\n",
    "num=[]\n",
    "x=[x for x in range(24783)]\n",
    "for n in range(tweet.shape[0]):\n",
    "    avg+=len(tweet[n])\n",
    "    num.append(len(tweet[n]))\n",
    "avg=avg/(tweet.shape[0])\n",
    "plt.bar(x,num)\n",
    "plt.show()\n",
    "print(\"average len before preprocessing\",avg)"
   ]
  },
  {
   "cell_type": "code",
   "execution_count": 16,
   "metadata": {},
   "outputs": [
    {
     "name": "stdout",
     "output_type": "stream",
     "text": [
      "#Yankees\n"
     ]
    }
   ],
   "source": [
    "# Index of tweet only contain format like\"#XX #XX\" (which would be empty after remove hashtag)\n",
    "# We need to specially deal with them\n",
    "special_index=[804,826,846,848,849,923,1016,1122,1909,3398,4818,5711,6098,6279,6332,6668,7168,11951,15859,18062]\n",
    "# for example\n",
    "print(df['tweet'][804])"
   ]
  },
  {
   "cell_type": "code",
   "execution_count": 17,
   "metadata": {},
   "outputs": [
    {
     "name": "stdout",
     "output_type": "stream",
     "text": [
      "@TNKidsFoodPorn @Oreo ..............&#128530;\n",
      "@hoes &#9829;\n"
     ]
    }
   ],
   "source": [
    "# Also there are two meaningless tweet\n",
    "print(df['tweet'][4828])\n",
    "print(df['tweet'][6098])\n",
    "meaningless_index=[4828,6098]"
   ]
  },
  {
   "cell_type": "code",
   "execution_count": 19,
   "metadata": {
    "collapsed": true
   },
   "outputs": [],
   "source": [
    "#copy original text\n",
    "txt=df.iloc[:,4:6]\n",
    "tweet=txt.iloc[:,1].copy(deep=True)\n",
    "stemmer = PorterStemmer()"
   ]
  },
  {
   "cell_type": "code",
   "execution_count": 20,
   "metadata": {
    "collapsed": true
   },
   "outputs": [],
   "source": [
    "def preprocess(tweet_,specail_index,meaningless_index):\n",
    "    #remove stopwords\n",
    "    stopwords = nltk.corpus.stopwords.words(\"english\")\n",
    "    other = [\"#ff\", \"ff\", \"rt\"]\n",
    "    stopwords.extend(other)   \n",
    "    for i in range(tweet_.shape[0]):\n",
    "        text=tweet_[i].lower()\n",
    "        text1=''.join([word+\" \" for word in text.split() if word not in stopwords])\n",
    "        tweet_[i]=text1\n",
    "    \n",
    "    #remove digit and excessive whitespace\n",
    "    #remove url mention and hashtag\n",
    "    \n",
    "    space_pattern = '\\s+'\n",
    "    giant_url_regex = ('http[s]?://(?:[a-zA-Z]|[0-9]|[$-_@.&+]|'\n",
    "        '[!*\\(\\),]|(?:%[0-9a-fA-F][0-9a-fA-F]))+')\n",
    "    mention_regex = '@[\\w\\-]+'\n",
    "    hashtag_regex = '#[\\w\\-]+'\n",
    "    \n",
    "    for i in range(tweet_.shape[0]):\n",
    "        text_string=tweet_[i]\n",
    "        parsed_text = re.sub(space_pattern, ' ', text_string)\n",
    "        parsed_text = re.sub(giant_url_regex, '', parsed_text)\n",
    "        parsed_text = re.sub(mention_regex, '', parsed_text) \n",
    "        if i not in specail_index:\n",
    "            parsed_text = re.sub(hashtag_regex, '', parsed_text)\n",
    "        else:\n",
    "            parsed_text = re.sub('#','',parsed_text)\n",
    "        if i in meaningless_index:\n",
    "            parsed_text ='This is a simple tweet'\n",
    "        tweet_[i]=parsed_text\n",
    "    \n",
    "    #tokenize and stemming\n",
    "    \"\"\"Removes punctuation and stems tweets. Returns a list of stemmed tokens.\"\"\"\n",
    "    for i in range(tweet_.shape[0]):\n",
    "        tweet_stem=tweet_[i]\n",
    "        tweet_stem = \" \".join(re.split(\"[^a-zA-Z]*\", tweet_stem)).strip()\n",
    "        tweet_process = [stemmer.stem(t) for t in tweet_stem.split()]\n",
    "        tweet_[i]=tweet_process\n",
    "        \n",
    "    return tweet_"
   ]
  },
  {
   "cell_type": "markdown",
   "metadata": {},
   "source": [
    "Results of pre-processing:"
   ]
  },
  {
   "cell_type": "code",
   "execution_count": 24,
   "metadata": {},
   "outputs": [
    {
     "name": "stdout",
     "output_type": "stream",
     "text": [
      "[list(['woman', 'complain', 'clean', 'hous', 'amp', 'man', 'alway', 'take', 'trash', 'out'])\n",
      " list(['boy', 'dat', 'cold', 'tyga', 'dwn', 'bad', 'cuffin', 'dat', 'hoe', 'st', 'place'])\n",
      " list(['dawg', 'ever', 'fuck', 'bitch', 'start', 'cri', 'confus', 'shit'])\n",
      " list(['look', 'like', 'tranni'])\n",
      " list(['shit', 'hear', 'might', 'true', 'might', 'faker', 'bitch', 'told', 'ya'])]\n"
     ]
    }
   ],
   "source": [
    "#results of pre-process\n",
    "tweet=preprocess(tweet,special_index,meaningless_index)\n",
    "print(tweet[:5])"
   ]
  },
  {
   "cell_type": "code",
   "execution_count": 25,
   "metadata": {},
   "outputs": [
    {
     "data": {
      "image/png": "[encoded data removed]",
      "text/plain": [
       "<Figure size 432x288 with 1 Axes>"
      ]
     },
     "metadata": {},
     "output_type": "display_data"
    },
    {
     "name": "stdout",
     "output_type": "stream",
     "text": [
      "average len after preprocessing 7.962191825041359\n"
     ]
    }
   ],
   "source": [
    "# Tweet length after preprocessing\n",
    "avg=0\n",
    "num=[]\n",
    "x=[x for x in range(24783)]\n",
    "for n in range(tweet.shape[0]):\n",
    "    avg+=len(tweet[n])\n",
    "    num.append(len(tweet[n]))\n",
    "avg=avg/(tweet.shape[0])\n",
    "plt.bar(x,num)\n",
    "plt.show()\n",
    "print(\"average len after preprocessing\",avg)"
   ]
  }
 ],
 "metadata": {
  "kernelspec": {
   "display_name": "Python 3",
   "language": "python",
   "name": "python3"
  },
  "language_info": {
   "codemirror_mode": {
    "name": "ipython",
    "version": 3
   },
   "file_extension": ".py",
   "mimetype": "text/x-python",
   "name": "python",
   "nbconvert_exporter": "python",
   "pygments_lexer": "ipython3",
   "version": "3.8.3"
  }
 },
 "nbformat": 4,
 "nbformat_minor": 2
}
